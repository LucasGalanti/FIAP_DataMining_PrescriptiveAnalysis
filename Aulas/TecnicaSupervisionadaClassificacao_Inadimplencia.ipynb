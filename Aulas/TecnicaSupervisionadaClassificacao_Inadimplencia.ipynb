{
  "cells": [
    {
      "cell_type": "markdown",
      "metadata": {
        "id": "lqwg39mLWJlo"
      },
      "source": [
        "\n",
        "# Prever se uma pessoa ficará inadimplente em um futuro próximo"
      ]
    },
    {
      "cell_type": "code",
      "execution_count": null,
      "metadata": {
        "id": "2M5sSnqaWJlq"
      },
      "outputs": [],
      "source": []
    },
    {
      "cell_type": "markdown",
      "metadata": {
        "id": "6FAazgCKWJlq"
      },
      "source": [
        "![image-2.png](attachment:image-2.png)"
      ]
    },
    {
      "cell_type": "code",
      "execution_count": null,
      "metadata": {
        "id": "VwNzOg7KWJlr"
      },
      "outputs": [],
      "source": []
    },
    {
      "cell_type": "markdown",
      "metadata": {
        "id": "n2YWLQ4tWJlr"
      },
      "source": [
        "![Imagem_ComparandoCassificadores.png](attachment:Imagem_ComparandoCassificadores.png)"
      ]
    },
    {
      "cell_type": "markdown",
      "metadata": {
        "id": "JXFuHg7lWJlr"
      },
      "source": [
        "## Segmento Cartão de Crédito\n",
        "#### A área de crédito deseja avaliar a propensão ao risco de seus clientes e implementar políticas de redução da inadimplência\n",
        "#### Dicionário de variáveis¶"
      ]
    },
    {
      "cell_type": "markdown",
      "metadata": {
        "id": "N-WkPmbcWJlr"
      },
      "source": [
        "\n",
        "![image.png](attachment:image.png)"
      ]
    },
    {
      "cell_type": "code",
      "execution_count": null,
      "metadata": {
        "id": "75PYd1spWJlr"
      },
      "outputs": [],
      "source": []
    },
    {
      "cell_type": "markdown",
      "metadata": {
        "id": "JOgiIAE0WJlr"
      },
      "source": [
        "![image.png](attachment:image.png)"
      ]
    },
    {
      "cell_type": "code",
      "execution_count": null,
      "metadata": {
        "id": "Re03rB3HWJls"
      },
      "outputs": [],
      "source": [
        "# Importar as bibliotecas\n",
        "#!install seaborn\n",
        "! pip install seaborn\n",
        "\n",
        "#!install scikit-learn\n",
        "! pip install scikit-learn\n",
        "\n",
        "\n",
        "import pandas as pd\n",
        "import numpy as np\n",
        "import seaborn as sb\n",
        "import matplotlib.pyplot as plt\n",
        "import sklearn\n",
        "\n",
        "from sklearn.linear_model import LogisticRegression\n",
        "from sklearn.model_selection import train_test_split\n",
        "from sklearn.tree import DecisionTreeClassifier,export_graphviz\n",
        "from sklearn import preprocessing\n",
        "from sklearn import metrics\n",
        "from sklearn.metrics import classification_report\n",
        "from sklearn.metrics import confusion_matrix\n",
        "from sklearn.metrics import roc_curve\n",
        "\n",
        "# elimina os warnings das bibliotecas\n",
        "import warnings\n",
        "warnings.filterwarnings(\"ignore\")"
      ]
    },
    {
      "cell_type": "code",
      "execution_count": null,
      "metadata": {
        "id": "8yFpg9tTWJls"
      },
      "outputs": [],
      "source": [
        "# Importar os dados\n",
        "Base_Inad = pd.read_csv(\"Inadimplencia_quantitativa_2.csv\", sep=\";\")\n",
        "\n",
        "print(\"Total number of transactions: \"+ str(Base_Inad.shape[0]))\n",
        "Base_Inad.head(5)\n"
      ]
    },
    {
      "cell_type": "code",
      "execution_count": null,
      "metadata": {
        "id": "yUbl8E3TWJlt"
      },
      "outputs": [],
      "source": [
        "Base_Inad.info()"
      ]
    },
    {
      "cell_type": "code",
      "execution_count": null,
      "metadata": {
        "id": "S9XZm1QGWJlt"
      },
      "outputs": [],
      "source": [
        "pd.DataFrame(zip(Base_Inad.isnull().sum(), Base_Inad.isnull().sum()/len(Base_Inad)), columns=['Count', 'Proportion'], index=Base_Inad.columns)\n"
      ]
    },
    {
      "cell_type": "code",
      "execution_count": null,
      "metadata": {
        "scrolled": true,
        "id": "QodZbNVrWJlt"
      },
      "outputs": [],
      "source": [
        "Base_Inad.describe()"
      ]
    },
    {
      "cell_type": "code",
      "execution_count": null,
      "metadata": {
        "id": "NcmY9_wIWJlt"
      },
      "outputs": [],
      "source": [
        "# Tabela de frequência da variável Resposta do modelo\n",
        "Resposta =pd.pivot_table(Base_Inad, index='Resposta', values='cliente', aggfunc=np.count_nonzero)\n",
        "Resposta['%'] = ((pd.pivot_table(Base_Inad, index='Resposta', values = 'cliente', aggfunc=np.count_nonzero)/Base_Inad['cliente'].count())*100).round(2)\n",
        "\n",
        "Resposta"
      ]
    },
    {
      "cell_type": "code",
      "execution_count": null,
      "metadata": {
        "id": "wdZ-XjP-WJlt"
      },
      "outputs": [],
      "source": [
        "# Como estamos construindo um modelo para prever a Inadimplência de um cliente da rede:0=Adimplente 1=Inadimplente\n",
        "# Para ter certeza de que é uma variável binária, vamos usar a função countplot () do Seaborn.\n",
        "\n",
        "sb.countplot(x='Resposta',data=Base_Inad, palette='hls');"
      ]
    },
    {
      "cell_type": "code",
      "execution_count": null,
      "metadata": {
        "id": "3l0A2HjBWJlt"
      },
      "outputs": [],
      "source": [
        "# Analisando as variáveis preditoras\n",
        "\n",
        "# Variável preditora: Atrasos\n",
        "\n",
        "sb.histplot(data=Base_Inad, x=\"Atrasos\");"
      ]
    },
    {
      "cell_type": "code",
      "execution_count": null,
      "metadata": {
        "id": "cWHDCeZ2WJlt"
      },
      "outputs": [],
      "source": [
        "# Neste estudo o foco é a Inadimplência, assim....\n",
        "\n",
        "sb.boxplot(x='Resposta', y='Atrasos', data=Base_Inad, palette='hls')"
      ]
    },
    {
      "cell_type": "code",
      "execution_count": null,
      "metadata": {
        "id": "iwu8_GJEWJlt"
      },
      "outputs": [],
      "source": [
        "sb.boxplot(x='Resposta', y='TempoRel', data=Base_Inad, palette='hls');"
      ]
    },
    {
      "cell_type": "code",
      "execution_count": null,
      "metadata": {
        "id": "t1fGcTceWJlt"
      },
      "outputs": [],
      "source": []
    },
    {
      "cell_type": "code",
      "execution_count": null,
      "metadata": {
        "id": "nFqW2j-fWJlu"
      },
      "outputs": [],
      "source": [
        "# transformando a varíavel tempo de relacionamneto em anos\n",
        "Base_Inad['TempoRel'] = Base_Inad['TempoRel']/365\n",
        "Base_Inad.describe()"
      ]
    },
    {
      "cell_type": "code",
      "execution_count": null,
      "metadata": {
        "id": "ffjQZi0BWJlu"
      },
      "outputs": [],
      "source": [
        "sb.boxplot(x='Resposta', y='valorFatura', data=Base_Inad, palette='hls')"
      ]
    },
    {
      "cell_type": "code",
      "execution_count": null,
      "metadata": {
        "id": "CkzTW9sLWJlu"
      },
      "outputs": [],
      "source": [
        "# Uma opção sobre como eliminar outliers é achatamento de algum valor descrepante\n",
        "\n",
        "Base_Inad.loc[Base_Inad['valorFatura']>=50000, 'valorFatura'] = 10000"
      ]
    },
    {
      "cell_type": "code",
      "execution_count": null,
      "metadata": {
        "id": "cqpcK5G0WJlu"
      },
      "outputs": [],
      "source": [
        "sb.boxplot(x='Resposta', y='valorFatura', data=Base_Inad, palette='hls')"
      ]
    },
    {
      "cell_type": "code",
      "execution_count": null,
      "metadata": {
        "id": "XHhP-L8mWJlu"
      },
      "outputs": [],
      "source": []
    },
    {
      "cell_type": "code",
      "execution_count": null,
      "metadata": {
        "id": "haPPnDdzWJlu"
      },
      "outputs": [],
      "source": [
        "sb.boxplot(x='Resposta', y='GastosAlim', data=Base_Inad, palette='hls');"
      ]
    },
    {
      "cell_type": "code",
      "execution_count": null,
      "metadata": {
        "id": "8M4jfk9wWJlu"
      },
      "outputs": [],
      "source": [
        "sb.boxplot(x='Resposta', y='RendaMensal', data=Base_Inad, palette='hls');"
      ]
    },
    {
      "cell_type": "code",
      "execution_count": null,
      "metadata": {
        "id": "djIrR0klWJlu"
      },
      "outputs": [],
      "source": [
        "\n"
      ]
    },
    {
      "cell_type": "code",
      "execution_count": null,
      "metadata": {
        "id": "dgbHXf94WJlu"
      },
      "outputs": [],
      "source": [
        "# comparison between Regrisk and target\n",
        "\n",
        "RegRisc_cat = pd.crosstab(Base_Inad['Resposta'],Base_Inad['RegRisc'])\n",
        "RegRisc_cat.div(RegRisc_cat.sum(1).astype(float), axis=0).plot(kind=\"bar\", stacked=True, figsize=(6, 6));"
      ]
    },
    {
      "cell_type": "code",
      "execution_count": null,
      "metadata": {
        "id": "DHKBR1utWJlu"
      },
      "outputs": [],
      "source": [
        "# Converting categorical variables to a dummy indicators\n",
        "RgRisk = pd.get_dummies(Base_Inad['RegRisc'],drop_first=True)\n",
        "RgRisk.head()"
      ]
    },
    {
      "cell_type": "code",
      "execution_count": null,
      "metadata": {
        "id": "ybKOkZFHWJlu"
      },
      "outputs": [],
      "source": [
        "# Alterando os dados\n",
        "Base_Inad.drop(['cliente','RegRisc'],axis=1,inplace=True)\n",
        "Base_Inad.head()"
      ]
    },
    {
      "cell_type": "code",
      "execution_count": null,
      "metadata": {
        "id": "WueYqjwKWJlv"
      },
      "outputs": [],
      "source": [
        "Base_Inad_dmy = pd.concat([Base_Inad,RgRisk],axis=1)\n",
        "Base_Inad_dmy.head()"
      ]
    },
    {
      "cell_type": "code",
      "execution_count": null,
      "metadata": {
        "id": "cv8eaH_LWJlv"
      },
      "outputs": [],
      "source": [
        "Base_Inad_dmy.info()"
      ]
    },
    {
      "cell_type": "code",
      "execution_count": null,
      "metadata": {
        "id": "tfyf0aneWJlv"
      },
      "outputs": [],
      "source": [
        "# 1º: Separar o conjunto em variavel resposta e variaveis de treinamento\n",
        "\n",
        "X = Base_Inad_dmy.iloc[:,[1,2,3,4,5,6,7,8]].values\n",
        "y = Base_Inad_dmy.iloc[:,0].values\n",
        "X.shape, y.shape\n"
      ]
    },
    {
      "cell_type": "code",
      "execution_count": null,
      "metadata": {
        "id": "dKXxv51nWJlv"
      },
      "outputs": [],
      "source": []
    },
    {
      "cell_type": "code",
      "execution_count": null,
      "metadata": {
        "id": "_tfBCVt1WJlv"
      },
      "outputs": [],
      "source": [
        "# Agora dividir em treino e teste (teste com 30%)\n",
        "\n",
        "\n",
        "# Dividindo os dados em treino e teste:\n",
        "X_train, X_test, y_train, y_test = train_test_split(Base_Inad_dmy.drop('Resposta',axis=1),Base_Inad_dmy['Resposta'],test_size=0.3, random_state=17)\n",
        "\n",
        "\n",
        "#X_train, X_test, y_train, y_test = train_test_split(X, y, test_size = .3, random_state=25)\n",
        "\n",
        "X_train.shape, X_test.shape"
      ]
    },
    {
      "cell_type": "code",
      "execution_count": null,
      "metadata": {
        "id": "2YYTjHpiWJlv"
      },
      "outputs": [],
      "source": [
        " y_train.shape, y_test.shape"
      ]
    },
    {
      "cell_type": "code",
      "execution_count": null,
      "metadata": {
        "id": "F4B8BFd5WJlv"
      },
      "outputs": [],
      "source": [
        " y_test.head()"
      ]
    },
    {
      "cell_type": "code",
      "execution_count": null,
      "metadata": {
        "id": "A8rk2tEnWJlv"
      },
      "outputs": [],
      "source": [
        "X_train.describe()"
      ]
    },
    {
      "cell_type": "markdown",
      "metadata": {
        "id": "OPbfBgZwWJl2"
      },
      "source": [
        "# Magnitude das variáveis preditoras:\n",
        "    \n",
        "    Em função das características de alguns algoritmos há necessidade de realizar transfomação nas variáveis preditoras."
      ]
    },
    {
      "cell_type": "markdown",
      "metadata": {
        "id": "N8VtbIo5WJl2"
      },
      "source": [
        "![image.png](attachment:image.png)"
      ]
    },
    {
      "cell_type": "code",
      "execution_count": null,
      "metadata": {
        "id": "QOCm33N6WJl2"
      },
      "outputs": [],
      "source": []
    },
    {
      "cell_type": "code",
      "execution_count": null,
      "metadata": {
        "id": "r9qdfpWDWJl2"
      },
      "outputs": [],
      "source": [
        "# Feature Scaling\n",
        "# Only on Independent Variable\n",
        "\n",
        "from sklearn.preprocessing import MinMaxScaler\n",
        "\n",
        "\n",
        "MinMax = MinMaxScaler()\n",
        "X_train = MinMax.fit_transform(X_train)\n",
        "\n",
        "X_test = MinMax.fit_transform(X_test)\n",
        "X_train = pd.DataFrame(X_train, columns=['Atrasos','TempoRel','valorFatura','GastosAlim','RendaMensal','II','III','IV'])\n",
        "X_train.head()\n",
        "\n"
      ]
    },
    {
      "cell_type": "markdown",
      "metadata": {
        "id": "KIr_FmhwWJl3"
      },
      "source": [
        "# 1.o MODELO: ÁRVORE DE DECISÃO"
      ]
    },
    {
      "cell_type": "markdown",
      "metadata": {
        "id": "khxaVIvwWJl3"
      },
      "source": [
        "![image.png](attachment:image.png)"
      ]
    },
    {
      "cell_type": "markdown",
      "metadata": {
        "id": "Mu5UBpAsWJl3"
      },
      "source": [
        "    Esses modelos de aprendizado supervisionado são empregados em tarefas tanto de regressão quanto classificação.\n",
        "    O objetivo do método é criar uma árvore que aprende com os dados por meio de regras básicas, chamadas de if-then rules.\n",
        "    O modelo identifica qual é o melhor atributo para separar os dados utilizando o critério escolhido, que, neste caso, pode ser entropy ou gini."
      ]
    },
    {
      "cell_type": "markdown",
      "metadata": {
        "id": "Hhsp6SwqWJl3"
      },
      "source": [
        "https://scikit-learn.org/stable/modules/generated/sklearn.tree.DecisionTreeClassifier.html\n"
      ]
    },
    {
      "cell_type": "markdown",
      "metadata": {
        "id": "2cu8HVwjWJl3"
      },
      "source": [
        "![image.png](attachment:image.png)"
      ]
    },
    {
      "cell_type": "code",
      "execution_count": null,
      "metadata": {
        "id": "kcapmfFLWJl3"
      },
      "outputs": [],
      "source": [
        "# Criando modelo\n",
        "\n",
        "Classif_tree = DecisionTreeClassifier()\n",
        ""
      ]
    },
    {
      "cell_type": "markdown",
      "metadata": {
        "id": "Yf8Pt5_NWJl3"
      },
      "source": [
        "#### Treinando o modelo de arvore de decisão:"
      ]
    },
    {
      "cell_type": "code",
      "execution_count": null,
      "metadata": {
        "id": "lDK8rhNcWJl3"
      },
      "outputs": [],
      "source": [
        "classif = Classif_tree.fit(X_train, y_train)\n",
        "\n",
        "# Como treinamos a árvore sem especificar nenhum parâmetro,\n",
        "# ela cresceu de forma indefinida e ficou grande demais impossibilitando a visualização da mesma.\n"
      ]
    },
    {
      "cell_type": "code",
      "execution_count": null,
      "metadata": {
        "id": "fjc7p_wiWJl3"
      },
      "outputs": [],
      "source": [
        "# Verificando as features mais importantes para o modelo treinado:\n",
        "classif.feature_importances_\n",
        "\n",
        "# O código acima nos retorna um array com o valor de cada variável:"
      ]
    },
    {
      "cell_type": "code",
      "execution_count": null,
      "metadata": {
        "id": "jt-5HJULWJl4"
      },
      "outputs": [],
      "source": [
        "for feature,importancia in zip(X_train.columns,classif.feature_importances_):\n",
        "    print(\"{}:{}\".format(feature, importancia))"
      ]
    },
    {
      "cell_type": "code",
      "execution_count": null,
      "metadata": {
        "id": "Fjl5jNEVWJl4"
      },
      "outputs": [],
      "source": [
        "# Testando o modelo\n",
        "y_pred_all = classif.predict(X_test)"
      ]
    },
    {
      "cell_type": "code",
      "execution_count": null,
      "metadata": {
        "id": "_08l8qHSWJl4"
      },
      "outputs": [],
      "source": [
        "from sklearn.metrics import confusion_matrix\n",
        "# Matriz de Confusão\n",
        "\n",
        "confusion_matrix = confusion_matrix(y_test, y_pred_all)\n",
        "confusion_matrix\n"
      ]
    },
    {
      "cell_type": "code",
      "execution_count": null,
      "metadata": {
        "id": "0cyXCXRUWJl4"
      },
      "outputs": [],
      "source": [
        "print(classification_report(y_test, y_pred_all))\n",
        "\n",
        "# Resultado do classification_report:"
      ]
    },
    {
      "cell_type": "markdown",
      "metadata": {
        "id": "E9iqp-RwWJl4"
      },
      "source": [
        "#### Parâmetros do classificador DecisionTreeClassifier"
      ]
    },
    {
      "cell_type": "code",
      "execution_count": null,
      "metadata": {
        "id": "ONcy0M18WJl4"
      },
      "outputs": [],
      "source": [
        "# criterion: medida de qualidade da divisão, aqui que definimos qual dessas métricas (Indice Gini, Chi-Square, Information Gain ou a redução da variância) iremos usar.\n",
        "# splitter: estratégia utilizada para dividir o nó de decisão.\n",
        "# max_depth: profundidade máxima da árvore.\n",
        "# min_samples_split: número de amostras mínimas para considerar um nó para divisão.\n",
        "# min_samples_leaf: número de amostras mínimas no nível folha.\n",
        "# clf = DecisionTreeClassifier(max_leaf_nodes=10, random_state=0)\n",
        "\n",
        "# clf = DecisionTreeClassifier(max_depth=5, criterion='gini', random_state=0)"
      ]
    },
    {
      "cell_type": "code",
      "execution_count": null,
      "metadata": {
        "id": "f3_RzSwtWJl4"
      },
      "outputs": [],
      "source": [
        "clf = DecisionTreeClassifier(class_weight=None, criterion='gini', max_depth=5,\n",
        "            max_leaf_nodes=None,\n",
        "            min_impurity_decrease=0.0,\n",
        "            min_samples_leaf=10, min_samples_split=10,\n",
        "            min_weight_fraction_leaf=0.0,\n",
        "            random_state=17, splitter='best')\n",
        "\n",
        "clf.fit(X_train, y_train)"
      ]
    },
    {
      "cell_type": "code",
      "execution_count": null,
      "metadata": {
        "id": "0X_36ii9WJl4"
      },
      "outputs": [],
      "source": []
    },
    {
      "cell_type": "code",
      "execution_count": null,
      "metadata": {
        "id": "MipPFWVJWJl4"
      },
      "outputs": [],
      "source": [
        "# Verificando as features mais importantes para o modelo treinado:\n",
        "clf.feature_importances_\n",
        "\n",
        "# O código acima nos retorna um array com o valor de cada variável:"
      ]
    },
    {
      "cell_type": "code",
      "execution_count": null,
      "metadata": {
        "id": "w0IBcLQKWJl5"
      },
      "outputs": [],
      "source": [
        "for feature,importancia in zip(X_train.columns,clf.feature_importances_):\n",
        "    print(\"{}:{}\".format(feature, importancia))"
      ]
    },
    {
      "cell_type": "code",
      "execution_count": null,
      "metadata": {
        "id": "4hlKRkoMWJl5"
      },
      "outputs": [],
      "source": [
        "# Testando o modelo\n",
        "y_pred = clf.predict(X_test)"
      ]
    },
    {
      "cell_type": "code",
      "execution_count": null,
      "metadata": {
        "id": "3PgrrG-oWJl5"
      },
      "outputs": [],
      "source": [
        "y_pred\n",
        "\n",
        "# O código acima nos da a seguinte saída:"
      ]
    },
    {
      "cell_type": "markdown",
      "metadata": {
        "id": "50pXlKHlWJl5"
      },
      "source": [
        "### Predição da Árvore de Decisão"
      ]
    },
    {
      "cell_type": "markdown",
      "metadata": {
        "id": "DtlTVK9KWJl5"
      },
      "source": [
        "![image.png](attachment:image.png)"
      ]
    },
    {
      "cell_type": "markdown",
      "metadata": {
        "id": "YioUpWyvWJl5"
      },
      "source": [
        "### Precision score = VP/(FP+VP))\n",
        "### Recall score = VP/(FN+VP)\n",
        "### F1 Score = 2* Precision Score * Recall Score/ (Precision Score + Recall Score)\n",
        "\n",
        "link: https://vitalflux.com/accuracy-precision-recall-f1-score-python-example/"
      ]
    },
    {
      "cell_type": "code",
      "execution_count": null,
      "metadata": {
        "id": "iuDhoRf_WJl5"
      },
      "outputs": [],
      "source": [
        "from sklearn.metrics import confusion_matrix\n",
        "confusion_matrix = confusion_matrix(y_test, y_pred)\n",
        "confusion_matrix\n"
      ]
    },
    {
      "cell_type": "code",
      "execution_count": null,
      "metadata": {
        "id": "IVsZ4h8yWJl5"
      },
      "outputs": [],
      "source": [
        "print(classification_report(y_test, y_pred))\n",
        "\n",
        "# Resultado do classification_report:"
      ]
    },
    {
      "cell_type": "code",
      "execution_count": null,
      "metadata": {
        "id": "ykgzcNzzWJl5"
      },
      "outputs": [],
      "source": [
        "from sklearn.tree import plot_tree\n",
        "import matplotlib.pyplot as plt\n",
        "fig = plt.figure(figsize=(16,12))\n",
        "a = plot_tree(clf, feature_names=['Atrasos', 'TempoRel', 'valorFatura', 'GastosAlim', 'RendaMensal', 'II',\n",
        "       'III', 'IV'], fontsize=12,\n",
        "filled=True,\n",
        "class_names=['Inad(não)', 'Inad(sim)'])"
      ]
    },
    {
      "cell_type": "code",
      "execution_count": null,
      "metadata": {
        "id": "xbTvOG8FWJl5"
      },
      "outputs": [],
      "source": []
    },
    {
      "cell_type": "markdown",
      "metadata": {
        "id": "631uhh6uWJl6"
      },
      "source": [
        "# 2.o MODELO: REGRESSÃO LOGÍSTICA"
      ]
    },
    {
      "cell_type": "markdown",
      "metadata": {
        "id": "2YWzF-5UWJl6"
      },
      "source": [
        "![image.png](attachment:image.png)"
      ]
    },
    {
      "cell_type": "markdown",
      "metadata": {
        "id": "XRn4JwHkWJl6"
      },
      "source": [
        "https://scikit-learn.org/stable/modules/generated/sklearn.linear_model.LogisticRegression.html"
      ]
    },
    {
      "cell_type": "code",
      "execution_count": null,
      "metadata": {
        "id": "TSGMqcs1WJl6"
      },
      "outputs": [],
      "source": [
        "# Agora vamos refazer o modelo utilizando scikit-learn para maior facilidade de obter as métricas de ajuste.\n",
        "# Agora vamos fazer com sklearn para aproveitar as métricas\n",
        "#Predicting using Logistic Regression for Binary classification\n",
        "\n",
        "\n",
        "logreg = LogisticRegression(penalty='none', solver='newton-cg',random_state=17)\n"
      ]
    },
    {
      "cell_type": "code",
      "execution_count": null,
      "metadata": {
        "id": "rD0IxcxrWJl6"
      },
      "outputs": [],
      "source": [
        "#Em seguida, você precisa treinar o seu modelo. Precisamos rodar a regressão para X_train e y_train:\n",
        "\n",
        "# treina o modelo\n",
        "logistica = logreg.fit(X_train, y_train)  #fitting the model"
      ]
    },
    {
      "cell_type": "code",
      "execution_count": null,
      "metadata": {
        "id": "uPxfUwnTWJl6"
      },
      "outputs": [],
      "source": [
        "print(logistica.coef_)"
      ]
    },
    {
      "cell_type": "code",
      "execution_count": null,
      "metadata": {
        "id": "aiANvs6-WJl6"
      },
      "outputs": [],
      "source": [
        "cols = X_train.columns\n"
      ]
    },
    {
      "cell_type": "code",
      "execution_count": null,
      "metadata": {
        "id": "pcEsYD-tWJl6"
      },
      "outputs": [],
      "source": [
        "# Os coeficientes do modelo (b1,b2,b3....)\n",
        "\n",
        "coefficients = pd.concat([pd.DataFrame(cols),pd.DataFrame(np.transpose(logistica.coef_))], axis = 1)\n",
        "coefficients"
      ]
    },
    {
      "cell_type": "code",
      "execution_count": null,
      "metadata": {
        "id": "_RX-LzzTWJl7"
      },
      "outputs": [],
      "source": [
        "X_test"
      ]
    },
    {
      "cell_type": "code",
      "execution_count": null,
      "metadata": {
        "id": "cWMwNpaGWJl7"
      },
      "outputs": [],
      "source": [
        "# faz predicao e salva em y_pred\n",
        "# y_pred_log = logreg.predict(X_test)\n",
        "y_pred_log = logistica.predict(X_test)\n",
        "y_pred_log"
      ]
    },
    {
      "cell_type": "code",
      "execution_count": null,
      "metadata": {
        "id": "o3EVKaXZWJl7"
      },
      "outputs": [],
      "source": [
        "\n",
        "# acuracia\n",
        "logistica.score(X_test, y_test)\n"
      ]
    },
    {
      "cell_type": "code",
      "execution_count": null,
      "metadata": {
        "id": "GaLtaTZBWJl7"
      },
      "outputs": [],
      "source": [
        "# matriz de confusao\n",
        "from sklearn.metrics import confusion_matrix\n",
        "\n",
        "confusion_matrix_log = confusion_matrix(y_test, y_pred_log)\n",
        "confusion_matrix_log"
      ]
    },
    {
      "cell_type": "code",
      "execution_count": null,
      "metadata": {
        "id": "y28cPs5PWJl7"
      },
      "outputs": [],
      "source": [
        " print(classification_report(y_test, logistica.predict(X_test)))"
      ]
    },
    {
      "cell_type": "code",
      "execution_count": null,
      "metadata": {
        "id": "fObn6MVjWJl7"
      },
      "outputs": [],
      "source": [
        "# Predizendo as probabilidades\n",
        "yhat = logistica.predict_proba(X_test) #prediction\n",
        "yhat"
      ]
    },
    {
      "cell_type": "code",
      "execution_count": null,
      "metadata": {
        "id": "Ze050j_xWJl7"
      },
      "outputs": [],
      "source": [
        "y_pred_prob = yhat[:, 1] # manter somente para a classe positiva\n",
        "y_pred_prob"
      ]
    },
    {
      "cell_type": "markdown",
      "metadata": {
        "id": "N-ufIT9LWJl8"
      },
      "source": [
        "# Modelos Ensemble\n"
      ]
    },
    {
      "cell_type": "markdown",
      "metadata": {
        "id": "J2QEbkGeWJl8"
      },
      "source": [
        "![image.png](attachment:image.png)"
      ]
    },
    {
      "cell_type": "markdown",
      "metadata": {
        "id": "N1Tz-tUHWJl8"
      },
      "source": [
        "    Tipos de Modelos Ensemble\n",
        "    Características Principais:\n",
        "    Bagging geralmente usa mesmo tipo de modelos individuais, cada um de forma independente em relação ao outro,\n",
        "    de forma paralela.\n",
        "    O algoritmo final é então feito a partir de algum tipo de resultado médio do que foi obtido a partir dos modelos bases.\n",
        "\n",
        "    Boosting geralmente usa mesmo tipo de modelos individuais, que são aplicados de forma sequencial (o posterior depende do antecessor) e depois combinados no modelo final.\n",
        "\n",
        "    Stacking geralmente usa tipos diferentes de modelos individuais, treinando-os em paralelo.\n",
        "    É então aplicado um modelo no output dos weak learners (podendo incluir ou não as features utilizadas para treiná-los)."
      ]
    },
    {
      "cell_type": "markdown",
      "metadata": {
        "id": "1Ck0N6xqWJl8"
      },
      "source": [
        "# 3.o MODELO: Random Forest"
      ]
    },
    {
      "cell_type": "markdown",
      "metadata": {
        "id": "PSL2_9PPWJl8"
      },
      "source": [
        "![image.png](attachment:image.png)"
      ]
    },
    {
      "cell_type": "code",
      "execution_count": null,
      "metadata": {
        "id": "2DM9qP5mWJl8"
      },
      "outputs": [],
      "source": [
        "# Documentação https://scikit-learn.org/stable/modules/generated/sklearn.ensemble.RandomForestClassifier.html\n",
        "from sklearn.ensemble import RandomForestClassifier\n",
        "\n",
        "random_forest_model = RandomForestClassifier(n_estimators=5, max_depth=3, n_jobs=-1,random_state=17)\n",
        "random_forest_model.fit(X_train, y_train)\n",
        "\n"
      ]
    },
    {
      "cell_type": "code",
      "execution_count": null,
      "metadata": {
        "id": "gu_Av6qcWJl8"
      },
      "outputs": [],
      "source": [
        "y_predito = random_forest_model.predict(X_test)\n"
      ]
    },
    {
      "cell_type": "code",
      "execution_count": null,
      "metadata": {
        "id": "wbYf99goWJl8"
      },
      "outputs": [],
      "source": [
        "# matriz de confusao\n",
        "from sklearn.metrics import confusion_matrix\n",
        "\n",
        "confusion_matrix_RF = confusion_matrix(y_test, random_forest_model.predict(X_test))\n",
        "confusion_matrix_RF"
      ]
    },
    {
      "cell_type": "code",
      "execution_count": null,
      "metadata": {
        "id": "2qvcwDqSWJl8"
      },
      "outputs": [],
      "source": [
        "for caracteristica, score in zip(X_train.columns, random_forest_model.feature_importances_):\n",
        "  print('caracteristica {} e seu score {}'.format(caracteristica, score))"
      ]
    },
    {
      "cell_type": "code",
      "execution_count": null,
      "metadata": {
        "id": "3UITNewbWJl8"
      },
      "outputs": [],
      "source": [
        "print(classification_report(y_test, random_forest_model.predict(X_test)))"
      ]
    },
    {
      "cell_type": "markdown",
      "metadata": {
        "id": "pvU4hW64WJl9"
      },
      "source": [
        "# 4.o MODELO: Gradient Boosting¶"
      ]
    },
    {
      "cell_type": "markdown",
      "metadata": {
        "id": "LIBKMGUOWJl9"
      },
      "source": [
        "O Gradient Boosting é um outro tipo de algoritmo de Boosting.\n",
        "\n",
        "Técnica de aprendizado de máquina para problemas de regressão e classificação, que produz um modelo de previsão na forma de um conjunto de modelos simples (baixa previsão), geralmente árvores de decisão.\n",
        "\n",
        "Ele constrói o modelo em etapas. O objetivo do algoritmo é criar uma corrente de modelos fracos, onde cada um tem como objetivo minimizar o erro do modelo anterior, por meio de uma função de perda.\n",
        "\n",
        "os erros são minimizado pelo algoritmo de gradiente descendente(gradient descending).\n",
        "\n",
        "Aos ajustes de cada modelo fraco é multiplicado um valor chamado de taxa de aprendizagem. Esse valor, tem como objetivo determinar o impacto de cada árvore no modelo final. Quanto menor o valor, menor a contribuição de cada árvore."
      ]
    },
    {
      "cell_type": "code",
      "execution_count": null,
      "metadata": {
        "id": "mNfGOneVWJl9"
      },
      "outputs": [],
      "source": [
        "# Documentação https://scikit-learn.org/stable/modules/generated/sklearn.ensemble.GradientBoostingClassifier.html\n",
        "from sklearn.ensemble import GradientBoostingClassifier\n"
      ]
    },
    {
      "cell_type": "code",
      "execution_count": null,
      "metadata": {
        "id": "FuXbolRmWJl9"
      },
      "outputs": [],
      "source": [
        "gradient_boost = GradientBoostingClassifier(random_state=17)\n",
        "\n",
        "gradient_boost.fit(X_train, y_train)"
      ]
    },
    {
      "cell_type": "code",
      "execution_count": null,
      "metadata": {
        "id": "ArVzoIHlWJl9"
      },
      "outputs": [],
      "source": [
        "from sklearn.metrics import confusion_matrix\n",
        "\n",
        "\n",
        "# Matriz de Confusão\n",
        "\n",
        "confusion_matrix = confusion_matrix(y_test, gradient_boost.predict(X_test))\n",
        "confusion_matrix"
      ]
    },
    {
      "cell_type": "code",
      "execution_count": null,
      "metadata": {
        "id": "MqxddsK4WJl9"
      },
      "outputs": [],
      "source": [
        "from sklearn.metrics import classification_report\n",
        "\n",
        "print(classification_report(y_test, gradient_boost.predict(X_test)))\n",
        "\n",
        "# Resultado do classification_report:"
      ]
    },
    {
      "cell_type": "markdown",
      "metadata": {
        "id": "lt7IQD5sWJl9"
      },
      "source": [
        "# 5.o MODELO:  KNN K-Nearest Neighbors"
      ]
    },
    {
      "cell_type": "markdown",
      "metadata": {
        "id": "nrTF6v-mWJl9"
      },
      "source": [
        "![image.png](attachment:image.png)"
      ]
    },
    {
      "cell_type": "code",
      "execution_count": null,
      "metadata": {
        "id": "7znwSE_iWJl9"
      },
      "outputs": [],
      "source": [
        "#https://scikit-learn.org/stable/modules/generated/sklearn.neighbors.KNeighborsClassifier.html\n",
        "\n",
        "from sklearn.neighbors import KNeighborsClassifier\n",
        "\n",
        "\n",
        "KNN_classificador = KNeighborsClassifier(n_neighbors = 101)\n",
        "\n",
        "KNN_classificador.fit(X_train, y_train)\n",
        "\n",
        "\n"
      ]
    },
    {
      "cell_type": "code",
      "execution_count": null,
      "metadata": {
        "id": "CpflcZ19WJl9"
      },
      "outputs": [],
      "source": []
    },
    {
      "cell_type": "code",
      "execution_count": null,
      "metadata": {
        "id": "bqBsToMjWJl-"
      },
      "outputs": [],
      "source": [
        "# matriz de confusao\n",
        "from sklearn.metrics import confusion_matrix\n",
        "\n",
        "confusion_matrix_KNN = confusion_matrix(y_test, KNN_classificador.predict(X_test))\n",
        "confusion_matrix_KNN"
      ]
    },
    {
      "cell_type": "code",
      "execution_count": null,
      "metadata": {
        "id": "OkNWb8F-WJl-"
      },
      "outputs": [],
      "source": [
        "print(classification_report(y_test, KNN_classificador.predict(X_test)))"
      ]
    },
    {
      "cell_type": "code",
      "execution_count": null,
      "metadata": {
        "id": "-VMpM6YuWJl-"
      },
      "outputs": [],
      "source": []
    },
    {
      "cell_type": "markdown",
      "metadata": {
        "id": "qmzzbCfAWJl-"
      },
      "source": [
        "# 6.o MODELO: SVM Support Vector Machine\n"
      ]
    },
    {
      "cell_type": "markdown",
      "metadata": {
        "id": "ybK5BbyYWJl-"
      },
      "source": [
        "![image.png](attachment:image.png)"
      ]
    },
    {
      "cell_type": "code",
      "execution_count": null,
      "metadata": {
        "id": "J7L6bt2EWJl-"
      },
      "outputs": [],
      "source": [
        "# Documentação de referência: https://scikit-learn.org/stable/modules/classes.html#module-sklearn.svm\n",
        "from sklearn.svm import LinearSVC\n",
        "\n",
        "modelo_SVM = LinearSVC(random_state=1234)\n",
        "modelo_SVM.fit(X_train, y_train)"
      ]
    },
    {
      "cell_type": "code",
      "execution_count": null,
      "metadata": {
        "id": "UmqreEE3WJl-"
      },
      "outputs": [],
      "source": [
        "y_predito = modelo_SVM.predict(X_test)"
      ]
    },
    {
      "cell_type": "code",
      "execution_count": null,
      "metadata": {
        "id": "oMxa0DrMWJl-"
      },
      "outputs": [],
      "source": [
        "# matriz de confusao\n",
        "\n",
        "confusion_matrix_SVM = confusion_matrix(y_test, y_predito)\n",
        "confusion_matrix_SVM"
      ]
    },
    {
      "cell_type": "code",
      "execution_count": null,
      "metadata": {
        "id": "Cf6vJdXLWJl-"
      },
      "outputs": [],
      "source": [
        "from sklearn import metrics\n",
        "\n",
        "print(\"Acurácia: {}\".format(metrics.accuracy_score(y_test, y_predito)))"
      ]
    },
    {
      "cell_type": "code",
      "execution_count": null,
      "metadata": {
        "id": "p_L3SWlcWJl-"
      },
      "outputs": [],
      "source": [
        " print(classification_report(y_test, modelo_SVM.predict(X_test)))"
      ]
    },
    {
      "cell_type": "code",
      "execution_count": null,
      "metadata": {
        "id": "Pv9_UaKkWJl_"
      },
      "outputs": [],
      "source": []
    }
  ],
  "metadata": {
    "kernelspec": {
      "display_name": "Python 3 (ipykernel)",
      "language": "python",
      "name": "python3"
    },
    "language_info": {
      "codemirror_mode": {
        "name": "ipython",
        "version": 3
      },
      "file_extension": ".py",
      "mimetype": "text/x-python",
      "name": "python",
      "nbconvert_exporter": "python",
      "pygments_lexer": "ipython3",
      "version": "3.10.9"
    },
    "colab": {
      "provenance": []
    }
  },
  "nbformat": 4,
  "nbformat_minor": 0
}